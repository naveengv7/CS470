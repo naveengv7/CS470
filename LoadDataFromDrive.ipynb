{
  "nbformat": 4,
  "nbformat_minor": 0,
  "metadata": {
    "colab": {
      "name": "LoadDataFromDrive.ipynb",
      "provenance": []
    },
    "kernelspec": {
      "name": "python3",
      "display_name": "Python 3"
    },
    "language_info": {
      "name": "python"
    }
  },
  "cells": [
    {
      "cell_type": "code",
      "metadata": {
        "id": "Zrq4v7phMvta"
      },
      "source": [
        "from google.colab import drive\n",
        "# Mounting my Google drive\n",
        "drive.mount('/content/drive')"
      ],
      "execution_count": null,
      "outputs": []
    },
    {
      "cell_type": "code",
      "metadata": {
        "id": "bNB6QNfiMyPt"
      },
      "source": [
        "import os\n",
        "\n",
        "#Setting the local folder path\n",
        "os.getcwd()\n",
        "os.chdir(r\"/content/drive/My Drive/Assignment\")"
      ],
      "execution_count": null,
      "outputs": []
    },
    {
      "cell_type": "code",
      "metadata": {
        "id": "tKrO_TacM8OI"
      },
      "source": [
        "#Load data\n",
        "data=np.loadtxt('data_2D.txt')"
      ],
      "execution_count": null,
      "outputs": []
    },
    {
      "cell_type": "code",
      "metadata": {
        "id": "cB13iFg2M8ih"
      },
      "source": [
        ""
      ],
      "execution_count": null,
      "outputs": []
    }
  ]
}